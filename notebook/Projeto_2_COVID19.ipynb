{
  "metadata": {
    "kernelspec": {
      "name": "python3",
      "display_name": "Python 3",
      "language": "python"
    },
    "language_info": {
      "name": "python",
      "version": "3.10.14",
      "mimetype": "text/x-python",
      "codemirror_mode": {
        "name": "ipython",
        "version": 3
      },
      "pygments_lexer": "ipython3",
      "nbconvert_exporter": "python",
      "file_extension": ".py"
    },
    "colab": {
      "provenance": [],
      "name": "Projeto:2-COVID19"
    },
    "kaggle": {
      "accelerator": "none",
      "dataSources": [],
      "dockerImageVersionId": 30786,
      "isInternetEnabled": true,
      "language": "python",
      "sourceType": "notebook",
      "isGpuEnabled": false
    }
  },
  "nbformat_minor": 0,
  "nbformat": 4,
  "cells": [
    {
      "cell_type": "markdown",
      "source": [
        "<img src=\"https://raw.githubusercontent.com/andre-marcos-perez/ebac-course-utils/main/media/logo/newebac_logo_black_half.png\" alt=\"ebac-logo\">\n",
        "\n",
        "---\n",
        "\n",
        "# **Módulo** | Análise de Dados: COVID-19 Dashboard\n",
        "Caderno de **Aula**<br>\n",
        "Professor [André Perez](https://www.linkedin.com/in/andremarcosperez/)\n",
        "\n",
        "---"
      ],
      "metadata": {
        "id": "KJqp9AANOCtf"
      }
    },
    {
      "cell_type": "markdown",
      "source": [
        "# **Tópicos**\n",
        "\n",
        "<ol type=\"1\">\n",
        "  <li>Introdução;</li>\n",
        "  <li>Análise Exploratória de Dados;</li>\n",
        "  <li>Visualização Interativa de Dados;</li>\n",
        "  <li>Storytelling.</li>\n",
        "</ol>"
      ],
      "metadata": {
        "id": "d9jDtUbDOE1-"
      }
    },
    {
      "cell_type": "markdown",
      "source": [
        "---"
      ],
      "metadata": {
        "id": "SmoHgt-lwkpD"
      }
    },
    {
      "cell_type": "markdown",
      "source": [
        "# **Aulas**"
      ],
      "metadata": {
        "id": "GABI6OW8OfQ2"
      }
    },
    {
      "cell_type": "markdown",
      "source": [
        "## 1\\. Introdução"
      ],
      "metadata": {
        "id": "muD1vxozykSC"
      }
    },
    {
      "cell_type": "markdown",
      "source": [
        "### **1.1. TLDR**"
      ],
      "metadata": {
        "id": "MHESfVrl-rPV"
      }
    },
    {
      "cell_type": "markdown",
      "source": [
        " - **Dashboard**:\n",
        "  - Google Data Studio ([link](https://lookerstudio.google.com/reporting/08819073-431e-4f2a-b594-16c02177d8a8)).\n",
        " - **Processamento**:\n",
        "  - Kaggle Notebook ([link](https://www.kaggle.com/fabiopereira445/projeto-ebac-covid19)).\n",
        " - **Fontes**:\n",
        "  - Casos pela universidade John Hopkins ([link](https://github.com/CSSEGISandData/COVID-19/tree/master/csse_covid_19_data/csse_covid_19_daily_reports));\n",
        "  - Vacinação pela universidade de Oxford ([link](https://covid.ourworldindata.org/data/owid-covid-data.csv))."
      ],
      "metadata": {
        "id": "Kbt89uW55ynj"
      }
    },
    {
      "cell_type": "markdown",
      "source": [
        "### **1.2. Pandemia Coronavírus 2019**"
      ],
      "metadata": {
        "id": "uBq6aQxeB4r0"
      }
    },
    {
      "cell_type": "markdown",
      "source": [
        "> A COVID-19 é uma infecção respiratória aguda causada pelo coronavírus SARS-CoV-2, potencialmente grave, de elevada transmissibilidade e de distribuição global. Fonte: Governo brasileiro ([link](https://www.gov.br/saude/pt-br/coronavirus/o-que-e-o-coronavirus))."
      ],
      "metadata": {
        "id": "caKO04G0tzxc"
      }
    },
    {
      "cell_type": "markdown",
      "source": [
        "A disponibilidade de dados sobre a evolução da pandemia no tempo em uma determinada região geográfica é fundamental para o seu combate! Este projeto busca construir um dashboard de dados para exploração e visualização interativa de dados sobre o avanço de casos e da vacinação do Brasil. O processamento de dados está neste `https://www.kaggle.com/fabiopereira445/projeto-ebac-covid19` e o dashboard, neste `https://lookerstudio.google.com/reporting/08819073-431e-4f2a-b594-16c02177d8a8`."
      ],
      "metadata": {
        "id": "UrsxlQhH7WrD"
      }
    },
    {
      "cell_type": "markdown",
      "source": [
        "### **1.3. Dados**"
      ],
      "metadata": {
        "id": "oo-6n3_GH0CT"
      }
    },
    {
      "cell_type": "markdown",
      "source": [
        "Os dados sobre **casos da COVID-19** são compilados pelo centro de ciência de sistemas e engenharia da universidade americana **John Hopkins** ([link](https://www.jhu.edu)). Os dados são atualizados diariamente deste janeiro de 2020 com uma granularidade temporal de dias e geográfica de regiões de países (estados, condados, etc.). O website do projeto pode ser acessado neste [link](https://systems.jhu.edu/research/public-health/ncov/) enquanto os dados, neste [link](https://github.com/CSSEGISandData/COVID-19/tree/master/csse_covid_19_data/csse_covid_19_daily_reports). Abaixo estão descritos os dados derivados do seu processamento."
      ],
      "metadata": {
        "id": "q9Kj_d3c3Hmd"
      }
    },
    {
      "cell_type": "markdown",
      "source": [
        " - **date**: data de referência;\n",
        " - **state**: estado;\n",
        " - **country**: país;\n",
        " - **population**: população estimada;\n",
        " - **confirmed**: número acumulado de infectados;\n",
        " - **confirmed_1d**: número diário de infectados;\n",
        " - **confirmed_moving_avg_7d**: média móvel de 7 dias do número diário de infectados;\n",
        " - **confirmed_moving_avg_7d_rate_14d**: média móvel de 7 dias dividido pela média móvel de 7 dias de 14 dias atrás;\n",
        " - **deaths**: número acumulado de mortos;\n",
        " - **deaths_1d**: número diário de mortos;\n",
        " - **deaths_moving_avg_7d**: média móvel de 7 dias do número diário de mortos;\n",
        " - **deaths_moving_avg_7d**: média móvel de 7 dias dividido pela média móvel de 7 dias de 14 dias atrás;\n",
        " - **month**: mês de referência;\n",
        " - **year**: ano de referência."
      ],
      "metadata": {
        "id": "7hKS37TRwvG7"
      }
    },
    {
      "cell_type": "markdown",
      "source": [
        "Os dados sobre **vacinação da COVID-19** são compilados pelo projeto Nosso Mundo em Dados (*Our World in Data* ou OWID) da universidade britânica de **Oxford** ([link](https://www.ox.ac.uk)). Os dados são **atualizados diariamente** deste janeiro de 2020 com uma **granularidade temporal de dias e geográfica de países**. O website do projeto pode ser acessado neste [link](https://ourworldindata.org) enquanto os dados, neste [link](https://covid.ourworldindata.org/data/owid-covid-data.csv). Abaixo estão descritos os dados derivados do seu processamento."
      ],
      "metadata": {
        "id": "Io6Yn0Yi7woI"
      }
    },
    {
      "cell_type": "markdown",
      "source": [
        " - **date**: data de referência;\n",
        " - **country**: país;\n",
        " - **population**: população estimada;\n",
        " - **total**: número acumulado de doses administradas;\n",
        " - **one_shot**: número acumulado de pessoas com uma dose;\n",
        " - **one_shot_perc**: número acumulado relativo de pessoas com uma dose;\n",
        " - **two_shots**: número acumulado de pessoas com duas doses;\n",
        " - **two_shot_perc**: número acumulado relativo de pessoas com duas doses;\n",
        " - **three_shots**: número acumulado de pessoas com três doses;\n",
        " - **three_shot_perc**: número acumulado relativo de pessoas com três doses;\n",
        " - **month**: mês de referência;\n",
        " - **year**: ano de referência."
      ],
      "metadata": {
        "id": "oF5oDfm07woK"
      }
    },
    {
      "cell_type": "markdown",
      "source": [
        "## 2\\. Análise Exploratória de Dados"
      ],
      "metadata": {
        "id": "EkVv4SCzIrxS"
      }
    },
    {
      "cell_type": "markdown",
      "source": [
        "Nesta sessão vamos utilizar os seguintes pacotes Python para processar os dados bruto em um formato adequado para um painel para exploração interativa de dados."
      ],
      "metadata": {
        "id": "5qb_q_g0W1xq"
      }
    },
    {
      "cell_type": "code",
      "source": [
        "# Importando as bibliotecas necessárias\n",
        "import math\n",
        "from typing import Iterator\n",
        "from datetime import datetime, timedelta\n",
        "\n",
        "import numpy as np\n",
        "import pandas as pd"
      ],
      "metadata": {
        "id": "1X3WC_QYUlAz"
      },
      "outputs": [],
      "execution_count": null
    },
    {
      "cell_type": "markdown",
      "source": [
        "### **2.1. Casos**"
      ],
      "metadata": {
        "id": "aP2Dlk9kOqCf"
      }
    },
    {
      "cell_type": "markdown",
      "source": [
        "Vamos processar os dados de **casos** da universidade John Hopkins.\n",
        "\n"
      ],
      "metadata": {
        "id": "8L5p6NGWaeSi"
      }
    },
    {
      "cell_type": "markdown",
      "source": [
        "#### **2.1.1. Extração**"
      ],
      "metadata": {
        "id": "Nd159jDC8Dm-"
      }
    },
    {
      "cell_type": "markdown",
      "source": [
        "O dado está compilado em um arquivo por dia, exemplo para 2021/12/01."
      ],
      "metadata": {
        "id": "QvRDLv8xVm7Y"
      }
    },
    {
      "cell_type": "code",
      "source": [
        "# Carregando os dados de vacinação\n",
        "cases = pd.read_csv('https://raw.githubusercontent.com/CSSEGISandData/COVID-19/master/csse_covid_19_data/csse_covid_19_daily_reports/01-12-2021.csv', sep=',')"
      ],
      "metadata": {
        "id": "GmsdWZKzKWup"
      },
      "outputs": [],
      "execution_count": null
    },
    {
      "cell_type": "code",
      "source": [
        "# Exibindo as primeiras linhas do dataframe\n",
        "cases.head()"
      ],
      "metadata": {
        "id": "bHg1MA4AKaeC"
      },
      "outputs": [],
      "execution_count": null
    },
    {
      "cell_type": "markdown",
      "source": [
        "Portanto, precisaremos iterar dentro de um intervalo de tempo definido para extraí-lo."
      ],
      "metadata": {
        "id": "XoGYHPcoKXSV"
      }
    },
    {
      "cell_type": "code",
      "source": [
        "# Função para gerar um intervalo de datas\n",
        "#Vamos filtrar a base de dados de acordo com a coluna date para garantir que ambas as bases de dados tratem do mesmo período de tempo.\n",
        "def date_range(start_date: datetime, end_date: datetime) -> Iterator[datetime]:\n",
        "  date_range_days: int = (end_date - start_date).days\n",
        "  for lag in range(date_range_days):\n",
        "    yield start_date + timedelta(lag)"
      ],
      "metadata": {
        "id": "yvNNHQWjF1LI"
      },
      "outputs": [],
      "execution_count": null
    },
    {
      "cell_type": "code",
      "source": [
        "# Definindo as datas de início e fim para a extração dos dados\n",
        "start_date = datetime(2021,  1,  1)\n",
        "end_date   = datetime(2021, 12, 31)"
      ],
      "metadata": {
        "id": "pUnc9yv5ISm1"
      },
      "outputs": [],
      "execution_count": null
    },
    {
      "cell_type": "markdown",
      "source": [
        "De maneira iterativa, vamos selecionar as colunas de interesse e as linhas referentes ao Brasil."
      ],
      "metadata": {
        "id": "EqAuJfCkWKiz"
      }
    },
    {
      "cell_type": "markdown",
      "source": [
        "---\n",
        "Observação:\n",
        "na aula, o professor utiliza o método `append()`, mas esse método foi removido da\n",
        "biblioteca Pandas (foi descontinuado desde a versão 1.4 e removido a partir da versão 2.0). [Link da documentação para mais informações](https://pandas.pydata.org/pandas-docs/version/1.5/whatsnew/v1.4.0.html#whatsnew-140-deprecations-frame-series-append)\n",
        "\n",
        "Seguindo a sintaxe recomendada pela documentação, segue abaixo o código atualizado utilizando `concat()`. [Link da documentação: pandas.concat()](https://pandas.pydata.org/docs/reference/api/pandas.concat.html)\n",
        "\n",
        "---\n",
        "\n"
      ],
      "metadata": {
        "id": "Cbsd2j3ow01E"
      }
    },
    {
      "cell_type": "code",
      "source": [
        "# Inicializando as variáveis para armazenar os dados\n",
        "cases = None\n",
        "cases_is_empty = True\n",
        "# Iterando sobre o intervalo de datas\n",
        "for date in date_range(start_date=start_date, end_date=end_date):\n",
        "\n",
        "  date_str = date.strftime('%m-%d-%Y')\n",
        "  data_source_url = f'https://raw.githubusercontent.com/CSSEGISandData/COVID-19/master/csse_covid_19_data/csse_covid_19_daily_reports/{date_str}.csv'\n",
        "\n",
        "  case = pd.read_csv(data_source_url, sep=',')\n",
        "\n",
        "  case = case.drop(['FIPS', 'Admin2', 'Last_Update', 'Lat', 'Long_', 'Recovered', 'Active', 'Combined_Key', 'Case_Fatality_Ratio'], axis=1)\n",
        "  case = case.query('Country_Region == \"Brazil\"').reset_index(drop=True)\n",
        "  case['Date'] = pd.to_datetime(date.strftime('%Y-%m-%d'))\n",
        "  if cases_is_empty:\n",
        "    cases = case\n",
        "    cases_is_empty = False\n",
        "  else:\n",
        "    cases = pd.concat([cases, case], axis= 0, ignore_index=True)"
      ],
      "metadata": {
        "id": "Oxn7mkcc2pHR"
      },
      "outputs": [],
      "execution_count": null
    },
    {
      "cell_type": "code",
      "source": [
        "# Exibindo as primeiras linhas dos dados filtrados para o estado de São Paulo\n",
        "cases.query('Province_State == \"Sao Paulo\"').head()"
      ],
      "metadata": {
        "id": "nOYxy_zMKBin"
      },
      "outputs": [],
      "execution_count": null
    },
    {
      "cell_type": "markdown",
      "source": [
        "#### **2.1.2. Wrangling**"
      ],
      "metadata": {
        "id": "Z3HiqQRkOMGc"
      }
    },
    {
      "cell_type": "markdown",
      "source": [
        "Vamos manipular os dados para o dashboard. O foco é em garantir uma boa granularidade e qualidade da base de dados."
      ],
      "metadata": {
        "id": "ceDNL40JzB0K"
      }
    },
    {
      "cell_type": "code",
      "source": [
        "# Exibindo as primeiras linhas do dataframe\n",
        "cases.head()"
      ],
      "metadata": {
        "id": "G66lP6tOqya_"
      },
      "outputs": [],
      "execution_count": null
    },
    {
      "cell_type": "code",
      "source": [
        "# Exibindo a forma (número de linhas e colunas) do dataframe\n",
        "cases.shape"
      ],
      "metadata": {
        "id": "Z4yQeP4bVCC5"
      },
      "outputs": [],
      "execution_count": null
    },
    {
      "cell_type": "code",
      "source": [
        "# Exibindo informações gerais sobre o dataframe\n",
        "cases.info()"
      ],
      "metadata": {
        "id": "pRs8xDlcU-y0"
      },
      "outputs": [],
      "execution_count": null
    },
    {
      "cell_type": "markdown",
      "source": [
        "Começamos com o nome das colunas."
      ],
      "metadata": {
        "id": "hgFFhUQgzFZ8"
      }
    },
    {
      "cell_type": "code",
      "source": [
        "# Renomeando as colunas para facilitar a manipulação\n",
        "cases = cases.rename(\n",
        "  columns={\n",
        "    'Province_State': 'state',\n",
        "    'Country_Region': 'country'\n",
        "  }\n",
        ")\n",
        "# Convertendo todos os nomes das colunas para minúsculas\n",
        "for col in cases.columns:\n",
        "  cases = cases.rename(columns={col: col.lower()})"
      ],
      "metadata": {
        "id": "1w9pQ8d_UCJO"
      },
      "outputs": [],
      "execution_count": null
    },
    {
      "cell_type": "markdown",
      "source": [
        "Ajustamos o nome dos estados."
      ],
      "metadata": {
        "id": "q2p4qjZUn-e2"
      }
    },
    {
      "cell_type": "code",
      "source": [
        "# Ajustando os nomes dos estados para o formato correto\n",
        "states_map = {\n",
        "    'Amapa': 'Amapá',\n",
        "    'Ceara': 'Ceará',\n",
        "    'Espirito Santo': 'Espírito Santo',\n",
        "    'Goias': 'Goiás',\n",
        "    'Para': 'Pará',\n",
        "    'Paraiba': 'Paraíba',\n",
        "    'Parana': 'Paraná',\n",
        "    'Piaui': 'Piauí',\n",
        "    'Rondonia': 'Rondônia',\n",
        "    'Sao Paulo': 'São Paulo'\n",
        "}\n",
        "\n",
        "cases['state'] = cases['state'].apply(lambda state: states_map.get(state) if state in states_map.keys() else state)"
      ],
      "metadata": {
        "id": "LBajRRZEnlms"
      },
      "outputs": [],
      "execution_count": null
    },
    {
      "cell_type": "markdown",
      "source": [
        "Vamos então computar novas colunas para enriquecer a base de dados."
      ],
      "metadata": {
        "id": "niRCU0-JzHV2"
      }
    },
    {
      "cell_type": "markdown",
      "source": [
        " - Chaves temporais:"
      ],
      "metadata": {
        "id": "V8Ijno5d28L-"
      }
    },
    {
      "cell_type": "code",
      "source": [
        "cases['month'] = cases['date'].apply(lambda date: date.strftime('%Y-%m'))\n",
        "cases['year']  = cases['date'].apply(lambda date: date.strftime('%Y'))"
      ],
      "metadata": {
        "id": "uRYhqYtRYYPI"
      },
      "outputs": [],
      "execution_count": null
    },
    {
      "cell_type": "markdown",
      "source": [
        " - População estimada do estado:"
      ],
      "metadata": {
        "id": "d9tjVG7o2_IT"
      }
    },
    {
      "cell_type": "code",
      "source": [
        "cases['population'] = round(100000 * (cases['confirmed'] / cases['incident_rate']))\n",
        "cases = cases.drop('incident_rate', axis=1)"
      ],
      "metadata": {
        "id": "1U6wV_zngbZW"
      },
      "outputs": [],
      "execution_count": null
    },
    {
      "cell_type": "markdown",
      "source": [
        " - Número, média móvel (7 dias) e estabilidade (14 dias) de casos e mortes por estado:"
      ],
      "metadata": {
        "id": "LCxMEJP53E3v"
      }
    },
    {
      "cell_type": "markdown",
      "source": [
        "| 1 | 2 | 3 | 4 | 5 | 6 | <font color='red'>7</font> | <font color='green'>8</font> | 9 | 10 | 11 | 12 | 13 | <font color='blue'>14<font color='red'> | 15 | 16 | 17 | 18 | 19 | 20 | 21 |\n",
        "| - | - | - | - | - | - | - | - | - | -- | -- | -- | -- | -- | -- | -- | -- | -- | -- | -- | -- |\n",
        "| <font color='red'>D-6</font> | <font color='red'>D-5</font> | <font color='red'>D-4</font> | <font color='red'>D-3</font> | <font color='red'>D-2</font> | <font color='red'>D-1</font> | <font color='red'>D0</font> | | | | | | | | | | | | | | |\n",
        "| D-7 | <font color='green'>D-6</font> | <font color='green'>D-5</font> | <font color='green'>D-4</font> | <font color='green'>D-3</font> | <font color='green'>D-2</font> | <font color='green'>D-1</font> | <font color='green'>D0</font> | | | | | | | | | | | | | |\n",
        "| D-13 | D-12 | D-11 | D-10 | D-9 | D-8 | D-7 | <font color='blue'>D-6</font> | <font color='blue'>D-5</font> | <font color='blue'>D-4</font> | <font color='blue'>D-3</font> | <font color='blue'>D-2</font> | <font color='blue'>D-1</font> | <font color='blue'>D0</font> | | | | | | | |"
      ],
      "metadata": {
        "id": "ZSHsw4H1oyjI"
      }
    },
    {
      "cell_type": "markdown",
      "source": [
        "\n",
        "\n",
        "---\n",
        "Observação: como explicado anteriormente, o código revisado utilizando `concat()` está apresentado abaixo.\n",
        "\n",
        "\n",
        "---\n",
        "\n",
        "\n"
      ],
      "metadata": {
        "id": "Mbmf8xcn0cmy"
      }
    },
    {
      "cell_type": "code",
      "source": [
        "cases_ = None\n",
        "cases_is_empty = True\n",
        "\n",
        "def get_trend(rate: float) -> str:\n",
        "\n",
        "  if np.isnan(rate):\n",
        "    return np.NaN\n",
        "\n",
        "  if rate < 0.85:    # Se a divisão for menor que 0.85\n",
        "    status = 'downward'\n",
        "  elif rate > 1.15:\n",
        "    status = 'upward'\n",
        "  else:\n",
        "    status = 'stable'\n",
        "\n",
        "  return status\n",
        "\n",
        "\n",
        "for state in cases['state'].drop_duplicates():\n",
        "\n",
        "  cases_per_state = cases.query(f'state == \"{state}\"').reset_index(drop=True)\n",
        "  cases_per_state = cases_per_state.sort_values(by=['date'])\n",
        "\n",
        "  cases_per_state['confirmed_1d'] = cases_per_state['confirmed'].diff(periods=1)\n",
        "  cases_per_state['confirmed_moving_avg_7d'] = np.ceil(cases_per_state['confirmed_1d'].rolling(window=7).mean())\n",
        "  cases_per_state['confirmed_moving_avg_7d_rate_14d'] = cases_per_state['confirmed_moving_avg_7d']/cases_per_state['confirmed_moving_avg_7d'].shift(periods=14)\n",
        "  cases_per_state['confirmed_trend'] = cases_per_state['confirmed_moving_avg_7d_rate_14d'].apply(get_trend)\n",
        "\n",
        "  cases_per_state['deaths_1d'] = cases_per_state['deaths'].diff(periods=1)\n",
        "  cases_per_state['deaths_moving_avg_7d'] = np.ceil(cases_per_state['deaths_1d'].rolling(window=7).mean())\n",
        "  cases_per_state['deaths_moving_avg_7d_rate_14d'] = cases_per_state['deaths_moving_avg_7d']/cases_per_state['deaths_moving_avg_7d'].shift(periods=14)\n",
        "  cases_per_state['deaths_trend'] = cases_per_state['deaths_moving_avg_7d_rate_14d'].apply(get_trend)\n",
        "\n",
        "  if cases_is_empty:\n",
        "    cases_ = cases_per_state\n",
        "    cases_is_empty = False\n",
        "  else:\n",
        "    cases_ = pd.concat([cases_, cases_per_state],axis=0, ignore_index=True)\n",
        "\n",
        "cases = cases_\n",
        "cases_ = None"
      ],
      "metadata": {
        "id": "ow_uWrO1gTGT"
      },
      "outputs": [],
      "execution_count": null
    },
    {
      "cell_type": "markdown",
      "source": [
        "Garantir o tipo do dado é fundamental para consistência da base de dados. Vamos fazer o *type casting* das colunas."
      ],
      "metadata": {
        "id": "hisru_0i07Pg"
      }
    },
    {
      "cell_type": "code",
      "source": [
        "cases['population'] = cases['population'].astype('Int64')\n",
        "cases['confirmed_1d'] = cases['confirmed_1d'].astype('Int64')\n",
        "cases['confirmed_moving_avg_7d'] = cases['confirmed_moving_avg_7d'].astype('Int64')\n",
        "cases['deaths_1d'] = cases['deaths_1d'].astype('Int64')\n",
        "cases['deaths_moving_avg_7d'] = cases['deaths_moving_avg_7d'].astype('Int64')"
      ],
      "metadata": {
        "id": "p7nalDg6KvFZ"
      },
      "outputs": [],
      "execution_count": null
    },
    {
      "cell_type": "markdown",
      "source": [
        "Por fim, vamos reorganizar as colunas e conferir o resultado final."
      ],
      "metadata": {
        "id": "LOwQaxtfgYka"
      }
    },
    {
      "cell_type": "code",
      "source": [
        "cases = cases[['date', 'country', 'state', 'population', 'confirmed', 'confirmed_1d', 'confirmed_moving_avg_7d', 'confirmed_moving_avg_7d_rate_14d', 'confirmed_trend', 'deaths', 'deaths_1d', 'deaths_moving_avg_7d', 'deaths_moving_avg_7d_rate_14d', 'deaths_trend', 'month', 'year']]"
      ],
      "metadata": {
        "id": "6fkkdIXVZL-E"
      },
      "outputs": [],
      "execution_count": null
    },
    {
      "cell_type": "code",
      "source": [
        "cases.head(n=15)"
      ],
      "metadata": {
        "id": "wUZetbA5zNO8"
      },
      "outputs": [],
      "execution_count": null
    },
    {
      "cell_type": "markdown",
      "source": [
        "#### **2.1.3. Carregamento**"
      ],
      "metadata": {
        "id": "KaLl8zdofQwE"
      }
    },
    {
      "cell_type": "markdown",
      "source": [
        "Com os dados manipulados, vamos persisti-lo em disco, fazer o seu download e carrega-lo no Google Data Studio."
      ],
      "metadata": {
        "id": "b1vD9VLafQwG"
      }
    },
    {
      "cell_type": "code",
      "source": [
        "# Salvando os dados de casos manipulados em um arquivo CSV\n",
        "cases.to_csv('./covid-cases.csv', sep=',', index=False)"
      ],
      "metadata": {
        "id": "mAazd-g0fQwG"
      },
      "outputs": [],
      "execution_count": null
    },
    {
      "cell_type": "markdown",
      "source": [
        "### **2.2. Vacinação**"
      ],
      "metadata": {
        "id": "ndJlwEdGpvRO"
      }
    },
    {
      "cell_type": "markdown",
      "source": [
        "Vamos processar os dados de **vacinação** da universidade de Oxford."
      ],
      "metadata": {
        "id": "4KimqDnGbHbI"
      }
    },
    {
      "cell_type": "markdown",
      "source": [
        "#### **2.2.1. Extração**"
      ],
      "metadata": {
        "id": "3SsBfzTOUwZh"
      }
    },
    {
      "cell_type": "markdown",
      "source": [
        "Os dados estão compilados em um único arquivo."
      ],
      "metadata": {
        "id": "k6ZYYdAKRQGS"
      }
    },
    {
      "cell_type": "code",
      "source": [
        "# Carregando os dados de vacinação\n",
        "vaccines = pd.read_csv('https://covid.ourworldindata.org/data/owid-covid-data.csv', sep=',', parse_dates=[3], infer_datetime_format=True)"
      ],
      "metadata": {
        "id": "G8nM5lc0USbd"
      },
      "outputs": [],
      "execution_count": null
    },
    {
      "cell_type": "code",
      "source": [
        "# Visualizando dados\n",
        "vaccines.head()"
      ],
      "metadata": {
        "id": "UCLtev1dUnuY"
      },
      "outputs": [],
      "execution_count": null
    },
    {
      "cell_type": "markdown",
      "source": [
        "Vamos selecionar as colunas de interesse e as linhas referentes ao Brasil."
      ],
      "metadata": {
        "id": "ImybLrrgRS4v"
      }
    },
    {
      "cell_type": "code",
      "source": [
        "#selecionando as colunas de interesse e as linhas referentes ao Brasil.\n",
        "vaccines = vaccines.query('location == \"Brazil\"').reset_index(drop=True)\n",
        "vaccines = vaccines[['location', 'population', 'total_vaccinations', 'people_vaccinated', 'people_fully_vaccinated', 'total_boosters', 'date']]"
      ],
      "metadata": {
        "id": "4RNfnnUZW6DY"
      },
      "outputs": [],
      "execution_count": null
    },
    {
      "cell_type": "code",
      "source": [
        "# Visualizando dados selecionados\n",
        "vaccines.head()"
      ],
      "metadata": {
        "id": "e4kmFIpkPm1s"
      },
      "outputs": [],
      "execution_count": null
    },
    {
      "cell_type": "markdown",
      "source": [
        "#### **2.2.2. Wrangling**"
      ],
      "metadata": {
        "id": "ANfJty-Iff4F"
      }
    },
    {
      "cell_type": "markdown",
      "source": [
        "Vamos manipular os dados para o dashboard. O foco é em garantir uma boa granularidade e qualidade da base de dados."
      ],
      "metadata": {
        "id": "XVh6eEL3zSqm"
      }
    },
    {
      "cell_type": "code",
      "source": [
        "# Exibindo as primeiras linhas do dataframe filtrado\n",
        "vaccines.head()"
      ],
      "metadata": {
        "id": "zl5Elp43flYU"
      },
      "outputs": [],
      "execution_count": null
    },
    {
      "cell_type": "code",
      "source": [
        "# Exibindo a forma (número de linhas e colunas) do dataframe\n",
        "vaccines.shape"
      ],
      "metadata": {
        "id": "GOH412CJflYV"
      },
      "outputs": [],
      "execution_count": null
    },
    {
      "cell_type": "code",
      "source": [
        "# Exibindo informações gerais sobre o dataframe\n",
        "vaccines.info()"
      ],
      "metadata": {
        "id": "QV6H5gl6flYW"
      },
      "outputs": [],
      "execution_count": null
    },
    {
      "cell_type": "markdown",
      "source": [
        "Vamos começar tratando os dados faltantes, a estratégia será a de preencher os buracos com o valor anterior válido mais próximo."
      ],
      "metadata": {
        "id": "L5CaqVEzzaYH"
      }
    },
    {
      "cell_type": "code",
      "source": [
        "# Preenchendo os valores faltantes com o valor anterior válido mais próximo\n",
        "vaccines = vaccines.fillna(method='ffill')"
      ],
      "metadata": {
        "id": "7UlhJa5M0fMz"
      },
      "outputs": [],
      "execution_count": null
    },
    {
      "cell_type": "markdown",
      "source": [
        "Vamos também filtrar a base de dados de acordo com a coluna `date` para garantir que ambas as bases de dados tratam do mesmo período de tempo."
      ],
      "metadata": {
        "id": "GibNnv1hfe8t"
      }
    },
    {
      "cell_type": "code",
      "source": [
        "# Filtrando os dados para o período de 2021\n",
        "vaccines = vaccines[(vaccines['date'] >= '2021-01-01') & (vaccines['date'] <= '2021-12-31')].reset_index(drop=True)"
      ],
      "metadata": {
        "id": "bB8n5Nq0e51M"
      },
      "outputs": [],
      "execution_count": null
    },
    {
      "cell_type": "markdown",
      "source": [
        "Agora, vamos alterar o nome das colunas."
      ],
      "metadata": {
        "id": "HeVzXS5pzUyh"
      }
    },
    {
      "cell_type": "code",
      "source": [
        "# Renomeando as colunas para facilitar a manipulação\n",
        "vaccines = vaccines.rename(\n",
        "  columns={\n",
        "    'location': 'country',\n",
        "    'total_vaccinations': 'total',\n",
        "    'people_vaccinated': 'one_shot',\n",
        "    'people_fully_vaccinated': 'two_shots',\n",
        "    'total_boosters': 'three_shots',\n",
        "  }\n",
        ")"
      ],
      "metadata": {
        "id": "onD0FAQ2fuZG"
      },
      "outputs": [],
      "execution_count": null
    },
    {
      "cell_type": "markdown",
      "source": [
        "Vamos então computar novas colunas para enriquecer a base de dados."
      ],
      "metadata": {
        "id": "3WEwZVW8zZdQ"
      }
    },
    {
      "cell_type": "markdown",
      "source": [
        " - Chaves temporais:"
      ],
      "metadata": {
        "id": "TtVVYdEn1xBu"
      }
    },
    {
      "cell_type": "code",
      "source": [
        "# Adicionando colunas de chaves temporais para análise de tendências ao longo do tempo,\n",
        "# ajudando a identificar padrões sazonais e a suavizar flutuações diárias para uma visão mais clara das tendências.\n",
        "vaccines['month'] = vaccines['date'].apply(lambda date: date.strftime('%Y-%m'))\n",
        "vaccines['year']  = vaccines['date'].apply(lambda date: date.strftime('%Y'))"
      ],
      "metadata": {
        "id": "69n_u8z-fuZI"
      },
      "outputs": [],
      "execution_count": null
    },
    {
      "cell_type": "markdown",
      "source": [
        " - Dados relativos:"
      ],
      "metadata": {
        "id": "RToFxe8s13WZ"
      }
    },
    {
      "cell_type": "code",
      "source": [
        "# Calculando dados relativos para comparar diferentes conjuntos de dados em uma base comum\n",
        "#ajudando a entender a cobertura vacinal em relação à população total, permitindo comparações entre diferentes regiões ou períodos de tempo.\n",
        "vaccines['one_shot_perc'] = round(vaccines['one_shot'] / vaccines['population'], 4)\n",
        "vaccines['two_shots_perc'] = round(vaccines['two_shots'] / vaccines['population'], 4)\n",
        "vaccines['three_shots_perc'] = round(vaccines['three_shots'] / vaccines['population'], 4)"
      ],
      "metadata": {
        "id": "0p5fH8yI160u"
      },
      "outputs": [],
      "execution_count": null
    },
    {
      "cell_type": "markdown",
      "source": [
        "Garantir o tipo do dado é fundamental para consistência da base de dados. Vamos fazer o *type casting* das colunas."
      ],
      "metadata": {
        "id": "AwBPeUoH018t"
      }
    },
    {
      "cell_type": "code",
      "source": [
        "# Garantindo o tipo correto dos dados para consistência\n",
        "vaccines['population'] = vaccines['population'].astype('Int64')\n",
        "vaccines['total'] = vaccines['total'].astype('Int64')\n",
        "vaccines['one_shot'] = vaccines['one_shot'].astype('Int64')\n",
        "vaccines['two_shots'] = vaccines['two_shots'].astype('Int64')\n",
        "vaccines['three_shots'] = vaccines['three_shots'].astype('Int64')"
      ],
      "metadata": {
        "id": "bkebNuXF024g"
      },
      "outputs": [],
      "execution_count": null
    },
    {
      "cell_type": "markdown",
      "source": [
        "Por fim, vamos reorganizar as colunas e conferir o resultado final."
      ],
      "metadata": {
        "id": "R8s4jBC4gUrq"
      }
    },
    {
      "cell_type": "code",
      "source": [
        "# Reorganizando as colunas e conferindo o resultado final\n",
        "vaccines = vaccines[['date', 'country', 'population', 'total', 'one_shot', 'one_shot_perc', 'two_shots', 'two_shots_perc', 'three_shots', 'three_shots_perc', 'month', 'year']]"
      ],
      "metadata": {
        "id": "GRqAQTFxfuZJ"
      },
      "outputs": [],
      "execution_count": null
    },
    {
      "cell_type": "code",
      "source": [
        "# Exibindo as últimas linhas do dataframe final\n",
        "vaccines.tail()"
      ],
      "metadata": {
        "id": "RqeuGtCPzXmj"
      },
      "outputs": [],
      "execution_count": null
    },
    {
      "cell_type": "markdown",
      "source": [
        "#### **2.2.3. Carregamento**"
      ],
      "metadata": {
        "id": "yhTcLXpaV5-F"
      }
    },
    {
      "cell_type": "markdown",
      "source": [
        "Com os dados manipulados, vamos persisti-lo em disco, fazer o seu download e carrega-lo no Google Data Studio."
      ],
      "metadata": {
        "id": "ciQaKaE8WDYL"
      }
    },
    {
      "cell_type": "code",
      "source": [
        "# Salvando os dados de vacinação manipulados em um arquivo CSV\n",
        "vaccines.to_csv('./covid-vaccines.csv', sep=',', index=False)"
      ],
      "metadata": {
        "id": "ur-OHsXIWN_-"
      },
      "outputs": [],
      "execution_count": null
    },
    {
      "cell_type": "markdown",
      "source": [
        "## 3\\. Exploração Interativa de Dados"
      ],
      "metadata": {
        "id": "PD0FiM7UJOGT"
      }
    },
    {
      "cell_type": "markdown",
      "source": [
        "### **3.1. KPIs**"
      ],
      "metadata": {
        "id": "AAwJC4RyS0xa"
      }
    },
    {
      "cell_type": "markdown",
      "source": [
        "O dashboard de dados contem os seguintes indicadores chaves de desempenho (*key performance indicator* ou KPI) consolidados:"
      ],
      "metadata": {
        "id": "9LIHnwDuiN47"
      }
    },
    {
      "cell_type": "markdown",
      "source": [
        "1. Casos e mortes nas 24 horas;\n",
        "1. Média móvel (7 dias) de casos e mortes;\n",
        "1. Tendência de casos e mortes;\n",
        "1. Proporção de vacinados com 1ª, 2ª e 3ª doses."
      ],
      "metadata": {
        "id": "rllIx255dOOu"
      }
    },
    {
      "cell_type": "markdown",
      "source": [
        "### **3.2. EDA**"
      ],
      "metadata": {
        "id": "QGWv8lw5YdUC"
      }
    },
    {
      "cell_type": "markdown",
      "source": [
        "O dashboard de dados contem os seguintes gráficos para a análise exploratória de dados (*exploratory data analysis*\n",
        "ou EDA) interativa:"
      ],
      "metadata": {
        "id": "AZPbGM3cdOyi"
      }
    },
    {
      "cell_type": "markdown",
      "source": [
        "1. Distribuição do números de casos e mortes ao longo do tempo;\n",
        "1. Distribuição da média móvel (7 dias) do números de casos e mortes ao longo do tempo;\n",
        "1. Distribuição geográfica dos casos por estado por dia."
      ],
      "metadata": {
        "id": "QuzfB5PmYjS9"
      }
    },
    {
      "cell_type": "markdown",
      "source": [
        "## 4\\. Storytelling"
      ],
      "metadata": {
        "id": "fGmO0I_ae62k"
      }
    },
    {
      "cell_type": "markdown",
      "source": [
        "**Análise dos Dados de COVID-19 no Brasil - 30 de dezembro de 2021**\n",
        "\n",
        "Caros stakeholders,\n",
        "\n",
        "Gostaria de compartilhar uma análise detalhada do estado da pandemia de COVID-19 no Brasil, baseada nos dados atualizados até 30 de dezembro de 2021. Nosso objetivo é fornecer insights críticos que ajudarão na tomada de decisões estratégicas. Vejam abaixo os principais pontos da nossa análise:\n",
        "\n",
        "**1. Vacinação no Brasil**\n",
        "\n",
        "1ª Dose: 77,2% de pessoas vacinadas.\n",
        "\n",
        "2ª Dose: 66,6% de pessoas vacinadas.\n",
        "\n",
        "3ª Dose: Apenas 12,3% de pessoas vacinadas.\n",
        "\n",
        "**Análise:**\n",
        "\n",
        " A disparidade entre as doses administradas mostra a necessidade urgente de intensificar os esforços de vacinação, especialmente para a 3ª dose.A sugestão seria estabelecer uma meta cujo objetivo seja de aumentar rapidamente o número de pessoas totalmente vacinadas, incluindo a dose de reforço, para garantir uma proteção duradoura.\n",
        "\n",
        "**2. Casos e Mortes**\n",
        "Casos nas Últimas 24h: 14,6 milhões.\n",
        "\n",
        "Média Móvel de 7 Dias de Casos Confirmados: 14,5 milhões.\n",
        "\n",
        "Mortes nas Últimas 24h: 423.708.\n",
        "\n",
        "Média Móvel de 7 Dias de Mortes: 425.553.\n",
        "\n",
        "**Análise:**\n",
        "\n",
        " Os números no período analisado mostram uma tendência de alta tanto nos casos quanto nas mortes, o que é preocupante.A sugestão seria tomar medidas mais rigorosas de controle de infecções, sendo imperativas para reverter essa tendência.\n",
        "\n",
        "**3. Tendências**\n",
        "\n",
        "Tendência de Casos: Em junho apresentamos um pico de alta em casos dentro de 24h ultrapassando a marca de 100 MIL Aumento (UPWARD).\n",
        "\n",
        "Tendência de Mortes: Entre final de Marçoe Abril registramos um pico de mortes em 24h  chegando a máxima de 4148  (UPWARD).\n",
        "\n",
        "**Análise:**\n",
        "\n",
        " A tendência de aumento contínuo reforça a necessidade de manter e intensificar as medidas de prevenção e controle para evitar a sobrecarga do sistema de saúde e reduzir a mortalidade.\n",
        "\n",
        "**4. Distribuição Geográfica dos Casos**\n",
        "\n",
        "O mapa do Brasil incluído no dashboard mostra a distribuição dos casos por estado nas últimas 24h, com uma legenda colorida indicando o número de casos em cada estado.\n",
        "\n",
        "**Exemplo:**\n",
        "\n",
        "**Análise:**\n",
        "\n",
        " Embora o número absoluto de novos casos em São Paulo (19.467) pareça alto, a média móvel de 7 dias de 13,4 mil indica uma tendência de queda. Isso sugere que, apesar do número alto, as novas infecções estão diminuindo gradualmente, o que é um sinal positivo.\n",
        "\n",
        "**Mortes e Tendências**\n",
        "\n",
        "**Mortes nas Últimas 24 Horas:** 599\n",
        "\n",
        "**Média Móvel de 7 Dias de Mortes:** 507\n",
        "\n",
        "**Tendência de Mortes:** STABLE (estabilidade)\n",
        "\n",
        "**Análise:**\n",
        "\n",
        "São Paulo sendo um dos estados mais populosos está apresentando um maior número de casos.Esse dado sugere a necessidade de alocar mais recursos e reforçar as medidas de controle nessas áreas para conter a disseminação do vírus.\n",
        "\n",
        "**5. Evolução Temporal dos Casos e Mortes**\n",
        "\n",
        "O gráfico de linha mostra a evolução dos casos e mortes ao longo do tempo, comparando os dados diários com a média móvel de 7 dias.\n",
        "\n",
        "**Análise:**\n",
        "\n",
        "Podemos observar picos significativos durante certos períodos, correlacionando-se com relaxamentos nas medidas de distanciamento social. A reintrodução de restrições pode ser necessária durante esses picos para controlar a transmissão.\n",
        "\n",
        "**Recomendações**\n",
        "**Intensificar a Campanha de Vacinação:**\n",
        "\n",
        "Aumentar a taxa de imunização completa, com foco especial na administração da 3ª dose.\n",
        "\n",
        "**Reforçar Medidas de Controle:**\n",
        "\n",
        "Implementar medidas mais rigorosas de distanciamento social, uso de máscaras e higiene das mãos.\n",
        "\n",
        "**Alocar Recursos para Áreas Críticas:**\n",
        "\n",
        "Direcionar esforços e recursos para os estados mais afetados, conforme indicado pela distribuição geográfica dos casos.\n",
        "\n",
        "**Monitoramento Contínuo:**\n",
        "\n",
        "Manter uma vigilância constante sobre a evolução dos casos e mortes para ajustar rapidamente as estratégias de intervenção.\n",
        "\n",
        "Este dashboard nos fornece uma visão clara e abrangente do estado da pandemia no Brasil no ano de 2021, permitindo que tomemos decisões informadas para proteger a saúde pública e mitigar os impactos socioeconômicos.\n",
        "\n",
        "Agradeço pela atenção e estou à disposição para quaisquer perguntas ou esclarecimentos adicionais.\n",
        "\n",
        "Atenciosamente,\n",
        "\n",
        "**Fabio Pereira**\n",
        "**Analista de Dados**\n",
        "**Vitória-ES **\n",
        "\n",
        "**E-mail:fabioalves.js15@gmail.com**"
      ],
      "metadata": {
        "id": "STu-mWjg692X"
      }
    }
  ]
}